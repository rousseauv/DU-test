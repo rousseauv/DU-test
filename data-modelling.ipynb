{
 "cells": [
  {
   "cell_type": "markdown",
   "id": "af30e14f-12ce-465d-8fc4-5fb243fddd51",
   "metadata": {},
   "source": [
    "# Data modelling"
   ]
  },
  {
   "cell_type": "code",
   "execution_count": 1,
   "id": "51cc9499-0251-4fa8-9e34-2e46644f749f",
   "metadata": {},
   "outputs": [],
   "source": [
    "import pandas as pd\n",
    "import numpy as np\n",
    "from sklearn.neighbors import KNeighborsClassifier\n",
    "from sklearn.linear_model import LogisticRegression\n",
    "from sklearn.ensemble import RandomForestClassifier\n",
    "from xgboost import XGBClassifier\n",
    "from sklearn.svm import SVC\n",
    "from sklearn.metrics import classification_report\n",
    "from sklearn.metrics import confusion_matrix\n",
    "from sklearn.metrics import accuracy_score\n",
    "from sklearn.model_selection import train_test_split"
   ]
  },
  {
   "cell_type": "code",
   "execution_count": 2,
   "id": "0352b933-0ff0-46ea-a14f-afafd17ba3df",
   "metadata": {},
   "outputs": [],
   "source": [
    "df_train = pd.read_csv('ds-tech-interview/train_data_preparation.csv')"
   ]
  },
  {
   "cell_type": "code",
   "execution_count": 3,
   "id": "03decd13-24d3-4ee9-ac92-461c2390e883",
   "metadata": {},
   "outputs": [],
   "source": [
    "df_test = pd.read_csv('ds-tech-interview/test_data_preparation.csv')"
   ]
  },
  {
   "cell_type": "markdown",
   "id": "0a33b95c-3189-4283-85ad-21f10176ba0f",
   "metadata": {},
   "source": [
    "## Model : "
   ]
  },
  {
   "cell_type": "markdown",
   "id": "6f8ecb6b-71cb-4f15-9ca5-5e2f5198c018",
   "metadata": {},
   "source": [
    "### Specify which variable we want to target"
   ]
  },
  {
   "cell_type": "code",
   "execution_count": 4,
   "id": "ba1c4a19-06ee-4e7d-93a5-51edf21a7311",
   "metadata": {},
   "outputs": [],
   "source": [
    "y = df_train['TARGET_FLAG']"
   ]
  },
  {
   "cell_type": "markdown",
   "id": "18069938-4de2-483a-a902-8121fe93f9f5",
   "metadata": {},
   "source": [
    "### Specify which variable we want to take as parameters"
   ]
  },
  {
   "cell_type": "code",
   "execution_count": 5,
   "id": "26c8dda5-4968-40b9-982b-8be313b2c297",
   "metadata": {},
   "outputs": [],
   "source": [
    "X = df_train[['KIDSDRIV_BIN', 'HOMEKIDS_BIN', 'URBANICITY_INDEX', 'HOME_VAL_BIN', 'logMVR_PTS', 'REVOKED_INDEX', 'logCLM_FREQ', 'CLM_FREQ', 'OLDCLAIM', 'CAR_TYPE_INDEX', 'TIF', 'logBLUEBOOK', 'CAR_USE_INDEX', 'logTRAVTIME', 'EDUCATION_BIN', 'MSTATUS_INDEX', 'logINCOME']]"
   ]
  },
  {
   "cell_type": "markdown",
   "id": "dbf724f6-7e70-4e78-8c7e-8be13a9074c5",
   "metadata": {},
   "source": [
    "### Cut dataframe into training and testing "
   ]
  },
  {
   "cell_type": "code",
   "execution_count": 6,
   "id": "c1c753af-7f42-4ebc-9e3a-539ef7115469",
   "metadata": {},
   "outputs": [],
   "source": [
    "X_train, X_test, y_train, y_test = train_test_split(X, y, test_size=0.25, random_state=0)"
   ]
  },
  {
   "cell_type": "markdown",
   "id": "044ca453-685e-4032-8c87-ccbdec680139",
   "metadata": {},
   "source": [
    "### Testing several models"
   ]
  },
  {
   "cell_type": "code",
   "execution_count": 7,
   "id": "916adbb6-44fd-4c8e-bc5d-ac40ac59523c",
   "metadata": {},
   "outputs": [],
   "source": [
    "SVC_model = SVC()"
   ]
  },
  {
   "cell_type": "code",
   "execution_count": 8,
   "id": "e802b91a-3524-4b8f-86a6-3f2bba591799",
   "metadata": {},
   "outputs": [],
   "source": [
    "KNN_model = KNeighborsClassifier(n_neighbors=100)"
   ]
  },
  {
   "cell_type": "code",
   "execution_count": 9,
   "id": "5471e57a-7ca5-4cf3-97b3-8ee537b023d9",
   "metadata": {},
   "outputs": [],
   "source": [
    "logreg_model = LogisticRegression(max_iter=300)"
   ]
  },
  {
   "cell_type": "code",
   "execution_count": 10,
   "id": "b741e88a-9a9c-41d0-8f6c-752585245b46",
   "metadata": {},
   "outputs": [],
   "source": [
    "XGB_model = XGBClassifier()"
   ]
  },
  {
   "cell_type": "code",
   "execution_count": 11,
   "id": "fa94a514-609b-42ec-81a2-0e8973fd67cd",
   "metadata": {},
   "outputs": [],
   "source": [
    "RFC_model = RandomForestClassifier(max_depth=10, n_estimators=300, random_state=0)"
   ]
  },
  {
   "cell_type": "markdown",
   "id": "33f714dd-247f-4f4e-8977-e364620096a8",
   "metadata": {},
   "source": [
    "### Fitting training datas"
   ]
  },
  {
   "cell_type": "code",
   "execution_count": 12,
   "id": "d6291264-d821-4673-b1fd-d46a57703c28",
   "metadata": {},
   "outputs": [
    {
     "data": {
      "text/plain": [
       "SVC()"
      ]
     },
     "execution_count": 12,
     "metadata": {},
     "output_type": "execute_result"
    }
   ],
   "source": [
    "SVC_model.fit(X_train, y_train)"
   ]
  },
  {
   "cell_type": "code",
   "execution_count": 13,
   "id": "e462c5e3-6183-4d8e-aaa8-51387925dd1e",
   "metadata": {},
   "outputs": [
    {
     "data": {
      "text/plain": [
       "KNeighborsClassifier(n_neighbors=100)"
      ]
     },
     "execution_count": 13,
     "metadata": {},
     "output_type": "execute_result"
    }
   ],
   "source": [
    "KNN_model.fit(X_train, y_train)"
   ]
  },
  {
   "cell_type": "code",
   "execution_count": 14,
   "id": "9397cae9-9baa-45dd-bdaf-185e25641647",
   "metadata": {},
   "outputs": [
    {
     "data": {
      "text/plain": [
       "LogisticRegression(max_iter=300)"
      ]
     },
     "execution_count": 14,
     "metadata": {},
     "output_type": "execute_result"
    }
   ],
   "source": [
    "logreg_model.fit(X_train, y_train)"
   ]
  },
  {
   "cell_type": "code",
   "execution_count": 15,
   "id": "d64c7338-165a-4bf2-808f-918ab02581bf",
   "metadata": {},
   "outputs": [
    {
     "name": "stderr",
     "output_type": "stream",
     "text": [
      "/Users/vic/PycharmProjects/DLenv/lib/python3.9/site-packages/xgboost/sklearn.py:1146: UserWarning: The use of label encoder in XGBClassifier is deprecated and will be removed in a future release. To remove this warning, do the following: 1) Pass option use_label_encoder=False when constructing XGBClassifier object; and 2) Encode your labels (y) as integers starting with 0, i.e. 0, 1, 2, ..., [num_class - 1].\n",
      "  warnings.warn(label_encoder_deprecation_msg, UserWarning)\n"
     ]
    },
    {
     "name": "stdout",
     "output_type": "stream",
     "text": [
      "[13:55:51] WARNING: /Users/travis/build/dmlc/xgboost/src/learner.cc:1095: Starting in XGBoost 1.3.0, the default evaluation metric used with the objective 'binary:logistic' was changed from 'error' to 'logloss'. Explicitly set eval_metric if you'd like to restore the old behavior.\n"
     ]
    },
    {
     "data": {
      "text/plain": [
       "XGBClassifier(base_score=0.5, booster='gbtree', colsample_bylevel=1,\n",
       "              colsample_bynode=1, colsample_bytree=1, gamma=0, gpu_id=-1,\n",
       "              importance_type='gain', interaction_constraints='',\n",
       "              learning_rate=0.300000012, max_delta_step=0, max_depth=6,\n",
       "              min_child_weight=1, missing=nan, monotone_constraints='()',\n",
       "              n_estimators=100, n_jobs=12, num_parallel_tree=1, random_state=0,\n",
       "              reg_alpha=0, reg_lambda=1, scale_pos_weight=1, subsample=1,\n",
       "              tree_method='exact', validate_parameters=1, verbosity=None)"
      ]
     },
     "execution_count": 15,
     "metadata": {},
     "output_type": "execute_result"
    }
   ],
   "source": [
    "XGB_model.fit(X_train, y_train)"
   ]
  },
  {
   "cell_type": "code",
   "execution_count": 16,
   "id": "0c97cdf5-cbb2-4872-9588-5215778b291b",
   "metadata": {},
   "outputs": [
    {
     "data": {
      "text/plain": [
       "RandomForestClassifier(max_depth=10, n_estimators=300, random_state=0)"
      ]
     },
     "execution_count": 16,
     "metadata": {},
     "output_type": "execute_result"
    }
   ],
   "source": [
    "RFC_model.fit(X_train, y_train)"
   ]
  },
  {
   "cell_type": "markdown",
   "id": "79dd27b6-3473-473c-8838-9f491a4629e6",
   "metadata": {},
   "source": [
    "### Testing model"
   ]
  },
  {
   "cell_type": "code",
   "execution_count": 17,
   "id": "e10aef57-a1eb-4bbc-84aa-c6596ff7fcbd",
   "metadata": {},
   "outputs": [],
   "source": [
    "SVC_prediction = SVC_model.predict(X_test)"
   ]
  },
  {
   "cell_type": "code",
   "execution_count": 18,
   "id": "bf8a78ae-f2b2-46ff-8ec8-210f76d537b4",
   "metadata": {},
   "outputs": [],
   "source": [
    "KNN_prediction = KNN_model.predict(X_test)"
   ]
  },
  {
   "cell_type": "code",
   "execution_count": 19,
   "id": "63ee1013-0538-4912-ab05-067922358da4",
   "metadata": {},
   "outputs": [],
   "source": [
    "logreg_prediction = logreg_model.predict(X_test)"
   ]
  },
  {
   "cell_type": "code",
   "execution_count": 20,
   "id": "038600bd-a621-4c5b-955f-46647bd359c0",
   "metadata": {},
   "outputs": [],
   "source": [
    "XGB_prediction = XGB_model.predict(X_test)"
   ]
  },
  {
   "cell_type": "code",
   "execution_count": 21,
   "id": "edcc34a3-0222-45fe-9fc3-a1d03b786790",
   "metadata": {},
   "outputs": [],
   "source": [
    "RFC_prediction = RFC_model.predict(X_test)"
   ]
  },
  {
   "cell_type": "markdown",
   "id": "b42b7e3f-1208-4b79-9b1e-6d086072b160",
   "metadata": {},
   "source": [
    "### Accuracy score from SVC prediction"
   ]
  },
  {
   "cell_type": "code",
   "execution_count": 22,
   "id": "f51b20d9-dd8f-4aa7-ae77-1ea2a4a718f9",
   "metadata": {},
   "outputs": [
    {
     "name": "stdout",
     "output_type": "stream",
     "text": [
      "0.7383635472807447\n"
     ]
    }
   ],
   "source": [
    "print(accuracy_score(SVC_prediction, y_test))"
   ]
  },
  {
   "cell_type": "markdown",
   "id": "ed9e2b22-fe40-41f4-91e4-d8e6b0d8936e",
   "metadata": {},
   "source": [
    "### Accuracy score from KNN prediction"
   ]
  },
  {
   "cell_type": "code",
   "execution_count": 23,
   "id": "818efecc-9d8d-4443-a016-78907f45b217",
   "metadata": {},
   "outputs": [
    {
     "name": "stdout",
     "output_type": "stream",
     "text": [
      "0.7383635472807447\n"
     ]
    }
   ],
   "source": [
    "print(accuracy_score(KNN_prediction, y_test))"
   ]
  },
  {
   "cell_type": "markdown",
   "id": "3d986b21-c509-4fec-9483-7e6767d4dc9a",
   "metadata": {},
   "source": [
    "### Accuracy score from logreg prediction"
   ]
  },
  {
   "cell_type": "code",
   "execution_count": 24,
   "id": "93f6cae9-8969-4567-aea7-8fba8d3955f9",
   "metadata": {},
   "outputs": [
    {
     "name": "stdout",
     "output_type": "stream",
     "text": [
      "0.7687408133268006\n"
     ]
    }
   ],
   "source": [
    "print(accuracy_score(logreg_prediction, y_test))"
   ]
  },
  {
   "cell_type": "markdown",
   "id": "e9ff9c38-e078-4fbc-971b-d7e3acf76bb1",
   "metadata": {},
   "source": [
    "### Accuracy score from XGB prediction"
   ]
  },
  {
   "cell_type": "code",
   "execution_count": 25,
   "id": "37718aa7-4637-4f0f-bba9-112f7e39bf2c",
   "metadata": {},
   "outputs": [
    {
     "name": "stdout",
     "output_type": "stream",
     "text": [
      "0.7775600195982362\n"
     ]
    }
   ],
   "source": [
    "print(accuracy_score(XGB_prediction, y_test))"
   ]
  },
  {
   "cell_type": "markdown",
   "id": "7834f17e-238b-46ee-bc60-d412a7363c34",
   "metadata": {},
   "source": [
    "### Accuracy score from RFC prediction"
   ]
  },
  {
   "cell_type": "code",
   "execution_count": 26,
   "id": "b753b976-9f1d-44f8-82e3-c19cc1c1bd22",
   "metadata": {},
   "outputs": [
    {
     "name": "stdout",
     "output_type": "stream",
     "text": [
      "0.7834394904458599\n"
     ]
    }
   ],
   "source": [
    "print(accuracy_score(RFC_prediction, y_test))"
   ]
  },
  {
   "cell_type": "markdown",
   "id": "8b0612bc-a379-4ce2-b0b7-3cf4f91336c3",
   "metadata": {},
   "source": [
    "### Print confusion matrix"
   ]
  },
  {
   "cell_type": "code",
   "execution_count": 27,
   "id": "4f8c0a1a-5c1d-4170-85ca-64cde37f2962",
   "metadata": {},
   "outputs": [
    {
     "name": "stdout",
     "output_type": "stream",
     "text": [
      "[[1507  534]\n",
      " [   0    0]]\n"
     ]
    }
   ],
   "source": [
    "print(confusion_matrix(SVC_prediction, y_test))"
   ]
  },
  {
   "cell_type": "code",
   "execution_count": 28,
   "id": "7bcf3eb0-2d3b-46cc-a12c-e6dcc4490872",
   "metadata": {},
   "outputs": [
    {
     "name": "stdout",
     "output_type": "stream",
     "text": [
      "[[1506  533]\n",
      " [   1    1]]\n"
     ]
    }
   ],
   "source": [
    "print(confusion_matrix(KNN_prediction, y_test))"
   ]
  },
  {
   "cell_type": "code",
   "execution_count": 29,
   "id": "f6df95df-11f2-48d2-891b-b430e420f8af",
   "metadata": {},
   "outputs": [
    {
     "name": "stdout",
     "output_type": "stream",
     "text": [
      "[[1379  344]\n",
      " [ 128  190]]\n"
     ]
    }
   ],
   "source": [
    "print(confusion_matrix(logreg_prediction, y_test))"
   ]
  },
  {
   "cell_type": "code",
   "execution_count": 30,
   "id": "e0af956a-30a4-450c-9ae0-52e6e5d46be2",
   "metadata": {},
   "outputs": [
    {
     "name": "stdout",
     "output_type": "stream",
     "text": [
      "[[1344  291]\n",
      " [ 163  243]]\n"
     ]
    }
   ],
   "source": [
    "print(confusion_matrix(XGB_prediction, y_test))"
   ]
  },
  {
   "cell_type": "code",
   "execution_count": 31,
   "id": "b8ab0b5f-524c-4379-8e14-8882fe5e6cc1",
   "metadata": {},
   "outputs": [
    {
     "name": "stdout",
     "output_type": "stream",
     "text": [
      "[[1429  364]\n",
      " [  78  170]]\n"
     ]
    }
   ],
   "source": [
    "print(confusion_matrix(RFC_prediction, y_test))"
   ]
  },
  {
   "cell_type": "markdown",
   "id": "6bb94b1a-86d9-4bb2-89c2-a6e8eb912d15",
   "metadata": {},
   "source": [
    "### Print classification report"
   ]
  },
  {
   "cell_type": "code",
   "execution_count": 32,
   "id": "153c225d-829b-4afd-b54e-12fdd778c1ae",
   "metadata": {},
   "outputs": [
    {
     "name": "stdout",
     "output_type": "stream",
     "text": [
      "              precision    recall  f1-score   support\n",
      "\n",
      "           0       1.00      0.74      0.85      2041\n",
      "           1       0.00      0.00      0.00         0\n",
      "\n",
      "    accuracy                           0.74      2041\n",
      "   macro avg       0.50      0.37      0.42      2041\n",
      "weighted avg       1.00      0.74      0.85      2041\n",
      "\n"
     ]
    },
    {
     "name": "stderr",
     "output_type": "stream",
     "text": [
      "/Users/vic/PycharmProjects/DLenv/lib/python3.9/site-packages/sklearn/metrics/_classification.py:1248: UndefinedMetricWarning: Recall and F-score are ill-defined and being set to 0.0 in labels with no true samples. Use `zero_division` parameter to control this behavior.\n",
      "  _warn_prf(average, modifier, msg_start, len(result))\n",
      "/Users/vic/PycharmProjects/DLenv/lib/python3.9/site-packages/sklearn/metrics/_classification.py:1248: UndefinedMetricWarning: Recall and F-score are ill-defined and being set to 0.0 in labels with no true samples. Use `zero_division` parameter to control this behavior.\n",
      "  _warn_prf(average, modifier, msg_start, len(result))\n",
      "/Users/vic/PycharmProjects/DLenv/lib/python3.9/site-packages/sklearn/metrics/_classification.py:1248: UndefinedMetricWarning: Recall and F-score are ill-defined and being set to 0.0 in labels with no true samples. Use `zero_division` parameter to control this behavior.\n",
      "  _warn_prf(average, modifier, msg_start, len(result))\n"
     ]
    }
   ],
   "source": [
    "print(classification_report(SVC_prediction, y_test))"
   ]
  },
  {
   "cell_type": "code",
   "execution_count": 33,
   "id": "d297feb9-3279-40da-a3e9-8386dc571740",
   "metadata": {},
   "outputs": [
    {
     "name": "stdout",
     "output_type": "stream",
     "text": [
      "              precision    recall  f1-score   support\n",
      "\n",
      "           0       1.00      0.74      0.85      2039\n",
      "           1       0.00      0.50      0.00         2\n",
      "\n",
      "    accuracy                           0.74      2041\n",
      "   macro avg       0.50      0.62      0.43      2041\n",
      "weighted avg       1.00      0.74      0.85      2041\n",
      "\n"
     ]
    }
   ],
   "source": [
    "print(classification_report(KNN_prediction, y_test))"
   ]
  },
  {
   "cell_type": "code",
   "execution_count": 34,
   "id": "453ce1cd-defb-4971-8c94-e8fbba95f16c",
   "metadata": {},
   "outputs": [
    {
     "name": "stdout",
     "output_type": "stream",
     "text": [
      "              precision    recall  f1-score   support\n",
      "\n",
      "           0       0.92      0.80      0.85      1723\n",
      "           1       0.36      0.60      0.45       318\n",
      "\n",
      "    accuracy                           0.77      2041\n",
      "   macro avg       0.64      0.70      0.65      2041\n",
      "weighted avg       0.83      0.77      0.79      2041\n",
      "\n"
     ]
    }
   ],
   "source": [
    "print(classification_report(logreg_prediction, y_test))"
   ]
  },
  {
   "cell_type": "code",
   "execution_count": 35,
   "id": "7f9f13bb-b727-46ae-88ac-0b6a515e9367",
   "metadata": {},
   "outputs": [
    {
     "name": "stdout",
     "output_type": "stream",
     "text": [
      "              precision    recall  f1-score   support\n",
      "\n",
      "           0       0.89      0.82      0.86      1635\n",
      "           1       0.46      0.60      0.52       406\n",
      "\n",
      "    accuracy                           0.78      2041\n",
      "   macro avg       0.67      0.71      0.69      2041\n",
      "weighted avg       0.80      0.78      0.79      2041\n",
      "\n"
     ]
    }
   ],
   "source": [
    "print(classification_report(XGB_prediction, y_test))"
   ]
  },
  {
   "cell_type": "code",
   "execution_count": 36,
   "id": "5a7a1199-cf93-49b5-a193-0731c931a50c",
   "metadata": {},
   "outputs": [
    {
     "name": "stdout",
     "output_type": "stream",
     "text": [
      "              precision    recall  f1-score   support\n",
      "\n",
      "           0       0.95      0.80      0.87      1793\n",
      "           1       0.32      0.69      0.43       248\n",
      "\n",
      "    accuracy                           0.78      2041\n",
      "   macro avg       0.63      0.74      0.65      2041\n",
      "weighted avg       0.87      0.78      0.81      2041\n",
      "\n"
     ]
    }
   ],
   "source": [
    "print(classification_report(RFC_prediction, y_test))"
   ]
  },
  {
   "cell_type": "markdown",
   "id": "ef002db8-c2b8-49ae-975f-c03e9abf70af",
   "metadata": {},
   "source": [
    "### Parameters importance for RFC method"
   ]
  },
  {
   "cell_type": "code",
   "execution_count": 37,
   "id": "73bdb7f5-aba5-4eb7-b1e1-be063e003c15",
   "metadata": {},
   "outputs": [
    {
     "data": {
      "image/png": "[encoded data removed]",
      "text/plain": [
       "<Figure size 1080x576 with 1 Axes>"
      ]
     },
     "metadata": {
      "needs_background": "light"
     },
     "output_type": "display_data"
    }
   ],
   "source": [
    "features = list(X.columns)\n",
    "importances = RFC_model.feature_importances_\n",
    "std = np.std([RFC_model.feature_importances_ for tree in RFC_model.estimators_], axis=0)\n",
    "indices = np.argsort(importances)[::-1]\n",
    "\n",
    "import matplotlib.pyplot as plt\n",
    "\n",
    "plt.figure(figsize=(15, 8))\n",
    "plt.title(\"Parameters importance\")\n",
    "plt.bar(\n",
    "    range(X.shape[1]),\n",
    "    importances[indices],\n",
    "    color=\"r\",\n",
    "    yerr=std[indices],\n",
    "    align=\"center\",\n",
    ")\n",
    "plt.xticks(range(X.shape[1]), [features[i] for i in indices], rotation=90)\n",
    "plt.xlim([-1, X.shape[1]])\n",
    "plt.show()"
   ]
  },
  {
   "cell_type": "markdown",
   "id": "e7cd07fd-b59d-4d0c-865c-d9829d283f31",
   "metadata": {},
   "source": [
    "### Find test TARGET_FLAG for RFC model only (better accuracy win) "
   ]
  },
  {
   "cell_type": "code",
   "execution_count": 38,
   "id": "fe2efa99-f88e-4b7e-b75e-d6062d3ee781",
   "metadata": {},
   "outputs": [],
   "source": [
    "X_target = df_test[['KIDSDRIV_BIN', 'HOMEKIDS_BIN', 'URBANICITY_INDEX', 'HOME_VAL_BIN', 'logMVR_PTS', 'REVOKED_INDEX', 'logCLM_FREQ', 'CLM_FREQ', 'OLDCLAIM', 'CAR_TYPE_INDEX', 'TIF', 'logBLUEBOOK', 'CAR_USE_INDEX', 'logTRAVTIME', 'EDUCATION_BIN', 'MSTATUS_INDEX', 'logINCOME']]"
   ]
  },
  {
   "cell_type": "code",
   "execution_count": 39,
   "id": "bc9026be-64f8-4dbd-82b7-80a03e8abc15",
   "metadata": {},
   "outputs": [],
   "source": [
    "final_target = RFC_model.predict(X_target)"
   ]
  },
  {
   "cell_type": "code",
   "execution_count": 40,
   "id": "842563ea-3c8c-415b-8a68-81ecd1b85434",
   "metadata": {},
   "outputs": [],
   "source": [
    "df_test['TARGET_FLAG'] = final_target"
   ]
  },
  {
   "cell_type": "code",
   "execution_count": 41,
   "id": "104ab214-9bd2-4158-8c6a-e9987613d977",
   "metadata": {},
   "outputs": [
    {
     "data": {
      "text/plain": [
       "0    1856\n",
       "1     285\n",
       "Name: TARGET_FLAG, dtype: int64"
      ]
     },
     "execution_count": 41,
     "metadata": {},
     "output_type": "execute_result"
    }
   ],
   "source": [
    "df_test['TARGET_FLAG'].value_counts()"
   ]
  },
  {
   "cell_type": "code",
   "execution_count": 42,
   "id": "79551d97-154f-485d-ad98-dab9b81aad61",
   "metadata": {},
   "outputs": [],
   "source": [
    "df_test[['INDEX', 'TARGET_FLAG']].to_csv('ds-tech-interview/TARGET_FLAG.csv', index=False)"
   ]
  }
 ],
 "metadata": {
  "kernelspec": {
   "display_name": "Python 3",
   "language": "python",
   "name": "python3"
  },
  "language_info": {
   "codemirror_mode": {
    "name": "ipython",
    "version": 3
   },
   "file_extension": ".py",
   "mimetype": "text/x-python",
   "name": "python",
   "nbconvert_exporter": "python",
   "pygments_lexer": "ipython3",
   "version": "3.9.5"
  }
 },
 "nbformat": 4,
 "nbformat_minor": 5
}
