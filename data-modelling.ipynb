{
 "cells": [
  {
   "cell_type": "markdown",
   "id": "af30e14f-12ce-465d-8fc4-5fb243fddd51",
   "metadata": {},
   "source": [
    "# Data modelling"
   ]
  },
  {
   "cell_type": "code",
   "execution_count": null,
   "id": "51cc9499-0251-4fa8-9e34-2e46644f749f",
   "metadata": {},
   "outputs": [],
   "source": [
    "import pandas as pd\n",
    "from sklearn.metrics import classification_report\n",
    "from sklearn.metrics import confusion_matrix\n",
    "from sklearn.metrics import accuracy_score\n",
    "from sklearn.neighbors import KNeighborsClassifier\n",
    "from sklearn.linear_model import LogisticRegression\n",
    "from sklearn.model_selection import train_test_split\n",
    "from sklearn import tree\n",
    "from sklearn.svm import SVC"
   ]
  },
  {
   "cell_type": "code",
   "execution_count": null,
   "id": "0352b933-0ff0-46ea-a14f-afafd17ba3df",
   "metadata": {},
   "outputs": [],
   "source": [
    "df_train = pd.read_csv('ds-tech-interview/train_data_preparation.csv')"
   ]
  },
  {
   "cell_type": "code",
   "execution_count": null,
   "id": "03decd13-24d3-4ee9-ac92-461c2390e883",
   "metadata": {},
   "outputs": [],
   "source": [
    "df_test = pd.read_csv('ds-tech-interview/test_data_preparation.csv')"
   ]
  },
  {
   "cell_type": "markdown",
   "id": "0a33b95c-3189-4283-85ad-21f10176ba0f",
   "metadata": {},
   "source": [
    "## Model : "
   ]
  },
  {
   "cell_type": "markdown",
   "id": "6f8ecb6b-71cb-4f15-9ca5-5e2f5198c018",
   "metadata": {},
   "source": [
    "### Specify which variable we want to target"
   ]
  },
  {
   "cell_type": "code",
   "execution_count": null,
   "id": "ba1c4a19-06ee-4e7d-93a5-51edf21a7311",
   "metadata": {},
   "outputs": [],
   "source": [
    "y=df_train['TARGET_FLAG']"
   ]
  },
  {
   "cell_type": "markdown",
   "id": "18069938-4de2-483a-a902-8121fe93f9f5",
   "metadata": {},
   "source": [
    "### Specify which variable we want to take as parameters"
   ]
  },
  {
   "cell_type": "code",
   "execution_count": null,
   "id": "26c8dda5-4968-40b9-982b-8be313b2c297",
   "metadata": {},
   "outputs": [],
   "source": [
    "X=df_train[['KIDSDRIV_BIN','HOMEKIDS_BIN','URBANICITY_INDEX','HOME_VAL_BIN','logMVR_PTS','REVOKED_INDEX','logCLM_FREQ','CLM_FREQ','OLDCLAIM','CAR_TYPE_INDEX','TIF','logBLUEBOOK','CAR_USE_INDEX','logTRAVTIME','EDUCATION_BIN','MSTATUS_INDEX','logINCOME']]"
   ]
  },
  {
   "cell_type": "markdown",
   "id": "dbf724f6-7e70-4e78-8c7e-8be13a9074c5",
   "metadata": {},
   "source": [
    "### Cut dataframe into training and testing "
   ]
  },
  {
   "cell_type": "code",
   "execution_count": null,
   "id": "c1c753af-7f42-4ebc-9e3a-539ef7115469",
   "metadata": {},
   "outputs": [],
   "source": [
    "X_train, X_test, y_train, y_test = train_test_split(X, y, test_size=0.25, random_state=0)"
   ]
  },
  {
   "cell_type": "markdown",
   "id": "044ca453-685e-4032-8c87-ccbdec680139",
   "metadata": {},
   "source": [
    "### Testing several models"
   ]
  },
  {
   "cell_type": "code",
   "execution_count": null,
   "id": "916adbb6-44fd-4c8e-bc5d-ac40ac59523c",
   "metadata": {},
   "outputs": [],
   "source": [
    "SVC_model = SVC()"
   ]
  },
  {
   "cell_type": "code",
   "execution_count": null,
   "id": "e802b91a-3524-4b8f-86a6-3f2bba591799",
   "metadata": {},
   "outputs": [],
   "source": [
    "KNN_model = KNeighborsClassifier(n_neighbors=100)"
   ]
  },
  {
   "cell_type": "code",
   "execution_count": null,
   "id": "5471e57a-7ca5-4cf3-97b3-8ee537b023d9",
   "metadata": {},
   "outputs": [],
   "source": [
    "logreg_model = LogisticRegression(max_iter=300)"
   ]
  },
  {
   "cell_type": "code",
   "execution_count": null,
   "id": "b741e88a-9a9c-41d0-8f6c-752585245b46",
   "metadata": {},
   "outputs": [],
   "source": [
    "clf_model = tree.DecisionTreeClassifier()"
   ]
  },
  {
   "cell_type": "code",
   "execution_count": null,
   "id": "d6291264-d821-4673-b1fd-d46a57703c28",
   "metadata": {},
   "outputs": [],
   "source": [
    "SVC_model.fit(X_train, y_train)"
   ]
  },
  {
   "cell_type": "code",
   "execution_count": null,
   "id": "e462c5e3-6183-4d8e-aaa8-51387925dd1e",
   "metadata": {},
   "outputs": [],
   "source": [
    "KNN_model.fit(X_train, y_train)"
   ]
  },
  {
   "cell_type": "code",
   "execution_count": null,
   "id": "9397cae9-9baa-45dd-bdaf-185e25641647",
   "metadata": {},
   "outputs": [],
   "source": [
    "logreg_model.fit(X_train,y_train)"
   ]
  },
  {
   "cell_type": "code",
   "execution_count": null,
   "id": "d64c7338-165a-4bf2-808f-918ab02581bf",
   "metadata": {},
   "outputs": [],
   "source": [
    "clf_model.fit(X_train,y_train)"
   ]
  },
  {
   "cell_type": "code",
   "execution_count": null,
   "id": "f71c0445-f3cf-4593-80f9-a40fb1950cb5",
   "metadata": {},
   "outputs": [],
   "source": [
    "SVC_prediction = SVC_model.predict(X_test)"
   ]
  },
  {
   "cell_type": "code",
   "execution_count": null,
   "id": "bf8a78ae-f2b2-46ff-8ec8-210f76d537b4",
   "metadata": {},
   "outputs": [],
   "source": [
    "KNN_prediction = KNN_model.predict(X_test)"
   ]
  },
  {
   "cell_type": "code",
   "execution_count": null,
   "id": "63ee1013-0538-4912-ab05-067922358da4",
   "metadata": {},
   "outputs": [],
   "source": [
    "logreg_prediction = logreg_model.predict(X_test)"
   ]
  },
  {
   "cell_type": "markdown",
   "id": "b42b7e3f-1208-4b79-9b1e-6d086072b160",
   "metadata": {},
   "source": [
    "### Accuracy score from SVC prediction"
   ]
  },
  {
   "cell_type": "code",
   "execution_count": null,
   "id": "f51b20d9-dd8f-4aa7-ae77-1ea2a4a718f9",
   "metadata": {},
   "outputs": [],
   "source": [
    "print(accuracy_score(SVC_prediction, y_test))"
   ]
  },
  {
   "cell_type": "markdown",
   "id": "ed9e2b22-fe40-41f4-91e4-d8e6b0d8936e",
   "metadata": {},
   "source": [
    "### Accuracy score from KNN prediction"
   ]
  },
  {
   "cell_type": "code",
   "execution_count": null,
   "id": "818efecc-9d8d-4443-a016-78907f45b217",
   "metadata": {},
   "outputs": [],
   "source": [
    "print(accuracy_score(KNN_prediction, y_test))"
   ]
  },
  {
   "cell_type": "markdown",
   "id": "3d986b21-c509-4fec-9483-7e6767d4dc9a",
   "metadata": {},
   "source": [
    "### Accuracy score from logreg prediction"
   ]
  },
  {
   "cell_type": "code",
   "execution_count": null,
   "id": "93f6cae9-8969-4567-aea7-8fba8d3955f9",
   "metadata": {},
   "outputs": [],
   "source": [
    "print(accuracy_score(logreg_prediction, y_test))"
   ]
  },
  {
   "cell_type": "markdown",
   "id": "8b0612bc-a379-4ce2-b0b7-3cf4f91336c3",
   "metadata": {},
   "source": [
    "### Print confusion matrix and classification report"
   ]
  },
  {
   "cell_type": "code",
   "execution_count": null,
   "id": "4f8c0a1a-5c1d-4170-85ca-64cde37f2962",
   "metadata": {},
   "outputs": [],
   "source": [
    "print(confusion_matrix(SVC_prediction, y_test))"
   ]
  },
  {
   "cell_type": "code",
   "execution_count": null,
   "id": "7bcf3eb0-2d3b-46cc-a12c-e6dcc4490872",
   "metadata": {},
   "outputs": [],
   "source": [
    "print(classification_report(KNN_prediction, y_test))"
   ]
  },
  {
   "cell_type": "code",
   "execution_count": null,
   "id": "f6df95df-11f2-48d2-891b-b430e420f8af",
   "metadata": {},
   "outputs": [],
   "source": [
    "print(confusion_matrix(logreg_prediction, y_test))"
   ]
  },
  {
   "cell_type": "markdown",
   "id": "e7cd07fd-b59d-4d0c-865c-d9829d283f31",
   "metadata": {},
   "source": [
    "### Find test TARGET_FLAG for logreg only (better accuracy win) "
   ]
  },
  {
   "cell_type": "code",
   "execution_count": null,
   "id": "fe2efa99-f88e-4b7e-b75e-d6062d3ee781",
   "metadata": {},
   "outputs": [],
   "source": [
    "X_target=df_test[['KIDSDRIV_BIN','HOMEKIDS_BIN','URBANICITY_INDEX','HOME_VAL_BIN','logMVR_PTS','REVOKED_INDEX','logCLM_FREQ','CLM_FREQ','OLDCLAIM','CAR_TYPE_INDEX','TIF','logBLUEBOOK','CAR_USE_INDEX','logTRAVTIME','EDUCATION_BIN','MSTATUS_INDEX','logINCOME']]"
   ]
  },
  {
   "cell_type": "code",
   "execution_count": null,
   "id": "bc9026be-64f8-4dbd-82b7-80a03e8abc15",
   "metadata": {},
   "outputs": [],
   "source": [
    "logreg_target = logreg_model.predict(X_target)"
   ]
  },
  {
   "cell_type": "code",
   "execution_count": null,
   "id": "842563ea-3c8c-415b-8a68-81ecd1b85434",
   "metadata": {},
   "outputs": [],
   "source": [
    "df_test['TARGET_FLAG']=logreg_target"
   ]
  },
  {
   "cell_type": "code",
   "execution_count": null,
   "id": "104ab214-9bd2-4158-8c6a-e9987613d977",
   "metadata": {},
   "outputs": [],
   "source": [
    "df_test['TARGET_FLAG'].value_counts()"
   ]
  },
  {
   "cell_type": "code",
   "execution_count": null,
   "id": "79551d97-154f-485d-ad98-dab9b81aad61",
   "metadata": {},
   "outputs": [],
   "source": [
    "df_test[['INDEX','TARGET_FLAG']].to_csv('ds-tech-interview/TARGET_FLAG.csv',index=False)"
   ]
  }
 ],
 "metadata": {
  "kernelspec": {
   "display_name": "Python 3",
   "language": "python",
   "name": "python3"
  },
  "language_info": {
   "codemirror_mode": {
    "name": "ipython",
    "version": 3
   },
   "file_extension": ".py",
   "mimetype": "text/x-python",
   "name": "python",
   "nbconvert_exporter": "python",
   "pygments_lexer": "ipython3",
   "version": "3.9.5"
  }
 },
 "nbformat": 4,
 "nbformat_minor": 5
}
