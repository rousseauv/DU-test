{
 "cells": [
  {
   "cell_type": "markdown",
   "id": "b2448c2f-5880-44e2-a953-58bd05ff8412",
   "metadata": {},
   "source": [
    "# Data preparation"
   ]
  },
  {
   "cell_type": "code",
   "execution_count": 1,
   "id": "9dd0f988-38cd-47b8-b36e-5a577cac4a25",
   "metadata": {},
   "outputs": [],
   "source": [
    "import pandas as pd\n",
    "from sklearn.linear_model import LinearRegression"
   ]
  },
  {
   "cell_type": "markdown",
   "id": "af326188-32c9-421f-b074-91c7db3e869f",
   "metadata": {},
   "source": [
    "## Load datasets as dataframes"
   ]
  },
  {
   "cell_type": "code",
   "execution_count": 2,
   "id": "689d472d-d90e-4af7-8922-182cb61ad896",
   "metadata": {},
   "outputs": [
    {
     "data": {
      "text/plain": [
       "INDEX            0\n",
       "TARGET_FLAG      0\n",
       "TARGET_AMT       0\n",
       "KIDSDRIV         0\n",
       "AGE              6\n",
       "HOMEKIDS         0\n",
       "YOJ            454\n",
       "INCOME         445\n",
       "PARENT1          0\n",
       "HOME_VAL       464\n",
       "MSTATUS          0\n",
       "SEX              0\n",
       "EDUCATION        0\n",
       "JOB            526\n",
       "TRAVTIME         0\n",
       "CAR_USE          0\n",
       "BLUEBOOK         0\n",
       "TIF              0\n",
       "CAR_TYPE         0\n",
       "RED_CAR          0\n",
       "OLDCLAIM         0\n",
       "CLM_FREQ         0\n",
       "REVOKED          0\n",
       "MVR_PTS          0\n",
       "CAR_AGE        510\n",
       "URBANICITY       0\n",
       "dtype: int64"
      ]
     },
     "execution_count": 2,
     "metadata": {},
     "output_type": "execute_result"
    }
   ],
   "source": [
    "df_train = pd.read_csv('ds-tech-interview/train_auto.csv') \n",
    "df_train.isnull().sum(axis = 0)"
   ]
  },
  {
   "cell_type": "code",
   "execution_count": 3,
   "id": "1c794354-50da-4448-b0fc-7cee70bcc376",
   "metadata": {},
   "outputs": [
    {
     "data": {
      "text/plain": [
       "INDEX             0\n",
       "TARGET_FLAG    2141\n",
       "TARGET_AMT     2141\n",
       "KIDSDRIV          0\n",
       "AGE               1\n",
       "HOMEKIDS          0\n",
       "YOJ              94\n",
       "INCOME          125\n",
       "PARENT1           0\n",
       "HOME_VAL        111\n",
       "MSTATUS           0\n",
       "SEX               0\n",
       "EDUCATION         0\n",
       "JOB             139\n",
       "TRAVTIME          0\n",
       "CAR_USE           0\n",
       "BLUEBOOK          0\n",
       "TIF               0\n",
       "CAR_TYPE          0\n",
       "RED_CAR           0\n",
       "OLDCLAIM          0\n",
       "CLM_FREQ          0\n",
       "REVOKED           0\n",
       "MVR_PTS           0\n",
       "CAR_AGE         129\n",
       "URBANICITY        0\n",
       "dtype: int64"
      ]
     },
     "execution_count": 3,
     "metadata": {},
     "output_type": "execute_result"
    }
   ],
   "source": [
    "df_test = pd.read_csv('ds-tech-interview/test_auto.csv') \n",
    "df_test.isnull().sum(axis = 0)"
   ]
  },
  {
   "cell_type": "markdown",
   "id": "27170156-f273-489e-ba2a-67c516d82ccf",
   "metadata": {
    "jupyter": {
     "outputs_hidden": true
    },
    "tags": []
   },
   "source": [
    "## Prepare dataframes for computation"
   ]
  },
  {
   "cell_type": "markdown",
   "id": "ba822ca0-110a-48b2-9dd6-7856a554beb1",
   "metadata": {},
   "source": [
    "### Redefine all the object with dollars removing , and dollars"
   ]
  },
  {
   "cell_type": "code",
   "execution_count": 4,
   "id": "922d0b5e-63b7-4ada-a5b4-0288e87a681c",
   "metadata": {
    "tags": []
   },
   "outputs": [
    {
     "name": "stderr",
     "output_type": "stream",
     "text": [
      "<ipython-input-4-0072b20f621f>:1: FutureWarning: The default value of regex will change from True to False in a future version. In addition, single character regular expressions will*not* be treated as literal strings when regex=True.\n",
      "  df_train['INCOME'] = df_train.INCOME.str.replace('$', '')\n"
     ]
    }
   ],
   "source": [
    "df_train['INCOME'] = df_train.INCOME.str.replace('$', '')\n",
    "df_train['INCOME'] = df_train.INCOME.str.replace(',', '').astype(float)"
   ]
  },
  {
   "cell_type": "code",
   "execution_count": 5,
   "id": "909e1db0-16ac-49c7-9b23-0d15c9f11cb8",
   "metadata": {},
   "outputs": [
    {
     "name": "stderr",
     "output_type": "stream",
     "text": [
      "<ipython-input-5-ad6e0fa470a8>:1: FutureWarning: The default value of regex will change from True to False in a future version. In addition, single character regular expressions will*not* be treated as literal strings when regex=True.\n",
      "  df_train['HOME_VAL'] = df_train.HOME_VAL.str.replace('$', '')\n"
     ]
    }
   ],
   "source": [
    "df_train['HOME_VAL'] = df_train.HOME_VAL.str.replace('$', '')\n",
    "df_train['HOME_VAL'] = df_train.HOME_VAL.str.replace(',', '').astype(float)"
   ]
  },
  {
   "cell_type": "code",
   "execution_count": 6,
   "id": "0c1b0e8c-9024-4c76-923e-5c7c13cb62f6",
   "metadata": {
    "tags": []
   },
   "outputs": [
    {
     "name": "stderr",
     "output_type": "stream",
     "text": [
      "<ipython-input-6-8f081d71afe3>:1: FutureWarning: The default value of regex will change from True to False in a future version. In addition, single character regular expressions will*not* be treated as literal strings when regex=True.\n",
      "  df_train['BLUEBOOK'] = df_train.BLUEBOOK.str.replace('$', '')\n"
     ]
    }
   ],
   "source": [
    "df_train['BLUEBOOK'] = df_train.BLUEBOOK.str.replace('$', '')\n",
    "df_train['BLUEBOOK'] = df_train.BLUEBOOK.str.replace(',', '').astype(float)"
   ]
  },
  {
   "cell_type": "code",
   "execution_count": 7,
   "id": "d7e9a430-f8fc-48a8-b9c7-3e8c02f8dbe2",
   "metadata": {
    "tags": []
   },
   "outputs": [
    {
     "name": "stderr",
     "output_type": "stream",
     "text": [
      "<ipython-input-7-a2403ccf3f17>:1: FutureWarning: The default value of regex will change from True to False in a future version. In addition, single character regular expressions will*not* be treated as literal strings when regex=True.\n",
      "  df_train['OLDCLAIM'] = df_train.OLDCLAIM.str.replace('$', '')\n"
     ]
    }
   ],
   "source": [
    "df_train['OLDCLAIM'] = df_train.OLDCLAIM.str.replace('$', '')\n",
    "df_train['OLDCLAIM'] = df_train.OLDCLAIM.str.replace(',', '').astype(float)"
   ]
  },
  {
   "cell_type": "code",
   "execution_count": 8,
   "id": "d7a3c5dd-e194-4a08-acfa-6af56551b210",
   "metadata": {
    "tags": []
   },
   "outputs": [
    {
     "name": "stderr",
     "output_type": "stream",
     "text": [
      "<ipython-input-8-48e1cf36563b>:1: FutureWarning: The default value of regex will change from True to False in a future version. In addition, single character regular expressions will*not* be treated as literal strings when regex=True.\n",
      "  df_test['INCOME'] = df_test.INCOME.str.replace('$', '')\n"
     ]
    }
   ],
   "source": [
    "df_test['INCOME'] = df_test.INCOME.str.replace('$', '')\n",
    "df_test['INCOME'] = df_test.INCOME.str.replace(',', '').astype(float)"
   ]
  },
  {
   "cell_type": "code",
   "execution_count": 9,
   "id": "66bcd3dd-4603-4d1e-9e99-c67cdb2bb135",
   "metadata": {
    "tags": []
   },
   "outputs": [
    {
     "name": "stderr",
     "output_type": "stream",
     "text": [
      "<ipython-input-9-19b350d704e5>:1: FutureWarning: The default value of regex will change from True to False in a future version. In addition, single character regular expressions will*not* be treated as literal strings when regex=True.\n",
      "  df_test['HOME_VAL'] = df_test.HOME_VAL.str.replace('$', '')\n"
     ]
    }
   ],
   "source": [
    "df_test['HOME_VAL'] = df_test.HOME_VAL.str.replace('$', '')\n",
    "df_test['HOME_VAL'] = df_test.HOME_VAL.str.replace(',', '').astype(float)"
   ]
  },
  {
   "cell_type": "code",
   "execution_count": 10,
   "id": "d0a7ca7f-4779-429b-90d0-5033a2c8e0a7",
   "metadata": {
    "tags": []
   },
   "outputs": [
    {
     "name": "stderr",
     "output_type": "stream",
     "text": [
      "<ipython-input-10-7efe66cc95ff>:1: FutureWarning: The default value of regex will change from True to False in a future version. In addition, single character regular expressions will*not* be treated as literal strings when regex=True.\n",
      "  df_test['BLUEBOOK'] = df_test.BLUEBOOK.str.replace('$', '')\n"
     ]
    }
   ],
   "source": [
    "df_test['BLUEBOOK'] = df_test.BLUEBOOK.str.replace('$', '')\n",
    "df_test['BLUEBOOK'] = df_test.BLUEBOOK.str.replace(',', '').astype(float)"
   ]
  },
  {
   "cell_type": "code",
   "execution_count": 11,
   "id": "7c8b1e51-b96c-45e8-ae14-1884d5b2ba38",
   "metadata": {
    "tags": []
   },
   "outputs": [
    {
     "name": "stderr",
     "output_type": "stream",
     "text": [
      "<ipython-input-11-b09049a4fbcc>:1: FutureWarning: The default value of regex will change from True to False in a future version. In addition, single character regular expressions will*not* be treated as literal strings when regex=True.\n",
      "  df_test['OLDCLAIM'] = df_test.OLDCLAIM.str.replace('$', '')\n"
     ]
    }
   ],
   "source": [
    "df_test['OLDCLAIM'] = df_test.OLDCLAIM.str.replace('$', '')\n",
    "df_test['OLDCLAIM'] = df_test.OLDCLAIM.str.replace(',', '').astype(float)"
   ]
  },
  {
   "cell_type": "markdown",
   "id": "ffa877ed-e60e-4ebf-b791-ebf914da7453",
   "metadata": {
    "tags": []
   },
   "source": [
    "### Define useful categorical variables as numerical indexes"
   ]
  },
  {
   "cell_type": "markdown",
   "id": "dc4fca9e-a731-46cb-b5d0-9944043a43bf",
   "metadata": {},
   "source": [
    "#### PARENT1 "
   ]
  },
  {
   "cell_type": "code",
   "execution_count": 12,
   "id": "3766bf24-0038-437b-81eb-c30dc236f54f",
   "metadata": {},
   "outputs": [],
   "source": [
    "df_train['PARENT1_INDEX']=df_train.PARENT1.map({'No':0,'Yes':1})"
   ]
  },
  {
   "cell_type": "code",
   "execution_count": 13,
   "id": "b3106688-6837-465e-90d0-d46745c16d38",
   "metadata": {},
   "outputs": [],
   "source": [
    "df_test['PARENT1_INDEX']=df_test.PARENT1.map({'No':0,'Yes':1})"
   ]
  },
  {
   "cell_type": "markdown",
   "id": "7ec6578f-0526-4137-b13f-d19c30b51da2",
   "metadata": {},
   "source": [
    "#### MSTATUS "
   ]
  },
  {
   "cell_type": "code",
   "execution_count": 14,
   "id": "14383881-cdd2-43e5-820c-f5150fb6e6eb",
   "metadata": {},
   "outputs": [],
   "source": [
    "df_train['MSTATUS_INDEX']=df_train.MSTATUS.map({'z_No':0,'Yes':1})"
   ]
  },
  {
   "cell_type": "code",
   "execution_count": 15,
   "id": "14b3c4ca-75bd-4146-9683-09f86c89e2d7",
   "metadata": {},
   "outputs": [],
   "source": [
    "df_test['MSTATUS_INDEX']=df_test.MSTATUS.map({'z_No':0,'Yes':1})"
   ]
  },
  {
   "cell_type": "markdown",
   "id": "7ccc3e7b-2fe6-4473-a61b-523be46c8efd",
   "metadata": {},
   "source": [
    "#### CAR_USE "
   ]
  },
  {
   "cell_type": "code",
   "execution_count": 16,
   "id": "7a763119-0262-422b-baf9-073130a4b5b4",
   "metadata": {},
   "outputs": [],
   "source": [
    "df_train['CAR_USE_INDEX']=df_train.CAR_USE.map({'Private':0,'Commercial':1})"
   ]
  },
  {
   "cell_type": "code",
   "execution_count": 17,
   "id": "3b04e82e-3bde-4195-91a7-ff4c09d2126c",
   "metadata": {},
   "outputs": [],
   "source": [
    "df_test['CAR_USE_INDEX']=df_test.CAR_USE.map({'Private':0,'Commercial':1})"
   ]
  },
  {
   "cell_type": "markdown",
   "id": "5d3e03a2-741b-4040-bf3e-f4d9d4199675",
   "metadata": {},
   "source": [
    "#### REVOKED "
   ]
  },
  {
   "cell_type": "code",
   "execution_count": 18,
   "id": "90c08674-3afe-4f39-9275-a18422b2bd96",
   "metadata": {},
   "outputs": [],
   "source": [
    "df_train['REVOKED_INDEX']=df_train.REVOKED.map({'No':0,'Yes':1})"
   ]
  },
  {
   "cell_type": "code",
   "execution_count": 19,
   "id": "da2322cb-c287-4dac-bb17-89e8ad292d73",
   "metadata": {},
   "outputs": [],
   "source": [
    "df_test['REVOKED_INDEX']=df_test.REVOKED.map({'No':0,'Yes':1})"
   ]
  },
  {
   "cell_type": "markdown",
   "id": "78d1793a-1cb6-49a3-9b02-33d592cf934d",
   "metadata": {},
   "source": [
    "#### URBANICITY"
   ]
  },
  {
   "cell_type": "code",
   "execution_count": 20,
   "id": "805a25d0-2cc1-4d2d-92ab-0e34292a53a9",
   "metadata": {},
   "outputs": [],
   "source": [
    "df_train['URBANICITY_INDEX']=df_train.URBANICITY.map({'Highly Urban/ Urban':0,'z_Highly Rural/ Rural':1})"
   ]
  },
  {
   "cell_type": "code",
   "execution_count": 21,
   "id": "ed6fa92b-b469-42c6-bdd2-7624c3767ef1",
   "metadata": {},
   "outputs": [],
   "source": [
    "df_test['URBANICITY_INDEX']=df_test.URBANICITY.map({'Highly Urban/ Urban':0,'z_Highly Rural/ Rural':1})"
   ]
  },
  {
   "cell_type": "markdown",
   "id": "9cf887d9-aa9b-4597-9678-749298d230e1",
   "metadata": {},
   "source": [
    "#### EDUCATION"
   ]
  },
  {
   "cell_type": "code",
   "execution_count": 22,
   "id": "b82eb010-c1de-48a7-ae07-10955efb520e",
   "metadata": {},
   "outputs": [],
   "source": [
    "df_train['EDUCATION_INDEX']=df_train.EDUCATION.map({'<High School':0,'z_High School':1,'Bachelors':2,'Masters':3,'PhD':4})"
   ]
  },
  {
   "cell_type": "code",
   "execution_count": 23,
   "id": "cbd4ec8f-c934-4c0a-907f-2f6e797635ef",
   "metadata": {},
   "outputs": [],
   "source": [
    "df_test['EDUCATION_INDEX']=df_test.EDUCATION.map({'<High School':0,'z_High School':1,'Bachelors':2,'Masters':3,'PhD':4})"
   ]
  },
  {
   "cell_type": "markdown",
   "id": "979578d9-d1eb-4512-90c1-2424c5a5a0e1",
   "metadata": {},
   "source": [
    "#### JOB"
   ]
  },
  {
   "cell_type": "code",
   "execution_count": 24,
   "id": "2a6e795c-ea71-4514-aa30-d79fe1596cd1",
   "metadata": {},
   "outputs": [],
   "source": [
    "df_train['JOB_INDEX']=df_train.JOB.map({'z_Blue Collar':0,'Clerical':1,'Professional':2,'Manager':3,'Lawyer':4,'Student':5,'Home Maker':6,'Doctor':7})"
   ]
  },
  {
   "cell_type": "code",
   "execution_count": 25,
   "id": "d98ce61d-3205-42be-871a-b25312708014",
   "metadata": {},
   "outputs": [],
   "source": [
    "df_test['JOB_INDEX']=df_test.JOB.map({'z_Blue Collar':0,'Clerical':1,'Professional':2,'Manager':3,'Lawyer':4,'Student':5,'Home Maker':6,'Doctor':7})"
   ]
  },
  {
   "cell_type": "markdown",
   "id": "a66f872f-9698-47a7-babb-9166a99ad72e",
   "metadata": {},
   "source": [
    "#### CAR_TYPE"
   ]
  },
  {
   "cell_type": "code",
   "execution_count": 26,
   "id": "4d6be9ef-e9f0-4c3c-90cd-2b11a1b8dbfa",
   "metadata": {},
   "outputs": [],
   "source": [
    "df_train['CAR_TYPE_INDEX']=df_train.CAR_TYPE.map({'z_SUV':0,'Minivan':1,'Pickup':2,'Sports Car':3,'Van':4,'Panel Truck':5})"
   ]
  },
  {
   "cell_type": "code",
   "execution_count": 27,
   "id": "f64b8864-a05d-455e-8acd-0ca53764f600",
   "metadata": {
    "tags": []
   },
   "outputs": [],
   "source": [
    "df_test['CAR_TYPE_INDEX']=df_test.CAR_TYPE.map({'z_SUV':0,'Minivan':1,'Pickup':2,'Sports Car':3,'Van':4,'Panel Truck':5})"
   ]
  },
  {
   "cell_type": "markdown",
   "id": "25dab4e3-1e3c-408c-be37-88b6cbf1e673",
   "metadata": {},
   "source": [
    "#### fill AGE with median"
   ]
  },
  {
   "cell_type": "code",
   "execution_count": 28,
   "id": "df71b72f-6a29-4f9e-87ea-4d76478f6c31",
   "metadata": {},
   "outputs": [],
   "source": [
    "df_train['AGE'].fillna(df_train['AGE'].median(), inplace=True)"
   ]
  },
  {
   "cell_type": "code",
   "execution_count": 29,
   "id": "c0dde633-01d1-4d0d-a2d3-5e787a4baaf3",
   "metadata": {},
   "outputs": [],
   "source": [
    "df_test['AGE'].fillna(df_test['AGE'].median(), inplace=True)"
   ]
  },
  {
   "cell_type": "markdown",
   "id": "ae8299a7-c3c7-46ec-a3ba-395270b99f5e",
   "metadata": {},
   "source": [
    "#### fill HOME_VAL with 0 (which seems to be the main mode)"
   ]
  },
  {
   "cell_type": "code",
   "execution_count": 30,
   "id": "1f294489-b707-4b3e-8135-c9ea06486270",
   "metadata": {},
   "outputs": [],
   "source": [
    "df_train['HOME_VAL'] = df_train['HOME_VAL'].fillna(0)"
   ]
  },
  {
   "cell_type": "code",
   "execution_count": 31,
   "id": "41756df1-bf1d-481d-8735-999a6edbe5d0",
   "metadata": {},
   "outputs": [],
   "source": [
    "df_test['HOME_VAL'] = df_test['HOME_VAL'].fillna(0)"
   ]
  },
  {
   "cell_type": "markdown",
   "id": "7491b91a-0f07-49a1-803a-ed901d4be805",
   "metadata": {},
   "source": [
    "#### fill JOB with new entry \"Not Specified\""
   ]
  },
  {
   "cell_type": "code",
   "execution_count": 32,
   "id": "2260b10c-f245-4ad0-9f60-9b58b5e4d414",
   "metadata": {},
   "outputs": [],
   "source": [
    "df_train['JOB'].fillna('Not Specified', inplace=True)"
   ]
  },
  {
   "cell_type": "code",
   "execution_count": 33,
   "id": "db941701-93e6-4bd2-b04e-ceaf03149640",
   "metadata": {},
   "outputs": [],
   "source": [
    "df_test['JOB'].fillna('Not Specified', inplace=True)"
   ]
  },
  {
   "cell_type": "code",
   "execution_count": 34,
   "id": "9bfe82ae-91cb-4d2e-b770-1eea6c1a4e60",
   "metadata": {},
   "outputs": [],
   "source": [
    "df_train['JOB_INDEX'].fillna(8, inplace=True)"
   ]
  },
  {
   "cell_type": "code",
   "execution_count": 35,
   "id": "0d7dbfd0-18ef-4d14-a2a0-1b5ca3b25468",
   "metadata": {},
   "outputs": [],
   "source": [
    "df_test['JOB_INDEX'].fillna(8, inplace=True)"
   ]
  },
  {
   "cell_type": "markdown",
   "id": "0f794285-2131-4310-ad32-d39fcab8b6e4",
   "metadata": {},
   "source": [
    "#### fill CAR_AGE with regression"
   ]
  },
  {
   "cell_type": "markdown",
   "id": "5b5fbdd7-3c15-4663-bd69-43cf7055b49f",
   "metadata": {},
   "source": [
    "##### take abs value of negative CAR_AGE (-3 seen before on train.csv)"
   ]
  },
  {
   "cell_type": "code",
   "execution_count": 36,
   "id": "a83b4138-21d1-4ef2-b394-0425615885cb",
   "metadata": {},
   "outputs": [],
   "source": [
    "df_test['CAR_AGE'] = df_test['CAR_AGE'].abs()"
   ]
  },
  {
   "cell_type": "code",
   "execution_count": 37,
   "id": "cefec4dc-0e00-4d6f-a7e2-a2e24e8fb8df",
   "metadata": {},
   "outputs": [],
   "source": [
    "df_train['CAR_AGE'] = df_train['CAR_AGE'].abs()"
   ]
  },
  {
   "cell_type": "markdown",
   "id": "8e1c3ceb-3346-4588-968b-570b9fe5c300",
   "metadata": {},
   "source": [
    "##### Fill with results of regression based upon sklearn algorithm CAR_AGE = f(HOME_VAL,JOB_INDEX,EDUCATION_INDEX)"
   ]
  },
  {
   "cell_type": "code",
   "execution_count": 38,
   "id": "7daaa024-2e7c-45f9-a8f0-38795ec46254",
   "metadata": {},
   "outputs": [
    {
     "name": "stderr",
     "output_type": "stream",
     "text": [
      "/Users/vic/PycharmProjects/DLenv/lib/python3.9/site-packages/pandas/core/frame.py:4308: SettingWithCopyWarning: \n",
      "A value is trying to be set on a copy of a slice from a DataFrame\n",
      "\n",
      "See the caveats in the documentation: https://pandas.pydata.org/pandas-docs/stable/user_guide/indexing.html#returning-a-view-versus-a-copy\n",
      "  return super().drop(\n",
      "/Users/vic/PycharmProjects/DLenv/lib/python3.9/site-packages/pandas/core/frame.py:4308: SettingWithCopyWarning: \n",
      "A value is trying to be set on a copy of a slice from a DataFrame\n",
      "\n",
      "See the caveats in the documentation: https://pandas.pydata.org/pandas-docs/stable/user_guide/indexing.html#returning-a-view-versus-a-copy\n",
      "  return super().drop(\n",
      "<ipython-input-38-32664f5aee33>:10: SettingWithCopyWarning: \n",
      "A value is trying to be set on a copy of a slice from a DataFrame.\n",
      "Try using .loc[row_indexer,col_indexer] = value instead\n",
      "\n",
      "See the caveats in the documentation: https://pandas.pydata.org/pandas-docs/stable/user_guide/indexing.html#returning-a-view-versus-a-copy\n",
      "  df1['CAR_AGE']= pred\n"
     ]
    }
   ],
   "source": [
    "lr = LinearRegression()\n",
    "df_train_reg=df_train[['JOB_INDEX', 'EDUCATION_INDEX', 'HOME_VAL', 'CAR_AGE']]\n",
    "df1 = df_train_reg[df_train_reg['CAR_AGE'].isnull()==True]\n",
    "df2 = df_train_reg[df_train_reg['CAR_AGE'].isnull()==False]\n",
    "y = df2['CAR_AGE']\n",
    "df2.drop(\"CAR_AGE\",axis=1,inplace=True)\n",
    "reg = lr.fit(df2,y)\n",
    "df1.drop(\"CAR_AGE\",axis=1,inplace=True)\n",
    "pred = lr.predict(df1)\n",
    "df1['CAR_AGE']= pred\n",
    "df_train['CAR_AGE'].fillna(df1['CAR_AGE'], inplace=True)"
   ]
  },
  {
   "cell_type": "markdown",
   "id": "2331b704-fb45-4bd9-9759-fbd02446d6c4",
   "metadata": {},
   "source": [
    "##### Calculation of the regression R^2"
   ]
  },
  {
   "cell_type": "code",
   "execution_count": 39,
   "id": "904efb23-5924-49c7-9f0f-38a24b0543f0",
   "metadata": {},
   "outputs": [
    {
     "data": {
      "text/plain": [
       "0.4802019689763515"
      ]
     },
     "execution_count": 39,
     "metadata": {},
     "output_type": "execute_result"
    }
   ],
   "source": [
    "reg.score(df2, y)"
   ]
  },
  {
   "cell_type": "code",
   "execution_count": 40,
   "id": "ea6dfc6e-1a64-48d4-bcab-3d4270541ce3",
   "metadata": {},
   "outputs": [],
   "source": [
    "del(df1,df2,y,df_train_reg,pred,reg)"
   ]
  },
  {
   "cell_type": "markdown",
   "id": "617da3ed-6c36-4967-87fe-3dd3191f0638",
   "metadata": {},
   "source": [
    "##### Separate regression for test.csv dataframe"
   ]
  },
  {
   "cell_type": "code",
   "execution_count": 41,
   "id": "b48138bf-bc02-4a1a-8cab-cc5bc1bfc779",
   "metadata": {},
   "outputs": [
    {
     "name": "stderr",
     "output_type": "stream",
     "text": [
      "/Users/vic/PycharmProjects/DLenv/lib/python3.9/site-packages/pandas/core/frame.py:4308: SettingWithCopyWarning: \n",
      "A value is trying to be set on a copy of a slice from a DataFrame\n",
      "\n",
      "See the caveats in the documentation: https://pandas.pydata.org/pandas-docs/stable/user_guide/indexing.html#returning-a-view-versus-a-copy\n",
      "  return super().drop(\n",
      "/Users/vic/PycharmProjects/DLenv/lib/python3.9/site-packages/pandas/core/frame.py:4308: SettingWithCopyWarning: \n",
      "A value is trying to be set on a copy of a slice from a DataFrame\n",
      "\n",
      "See the caveats in the documentation: https://pandas.pydata.org/pandas-docs/stable/user_guide/indexing.html#returning-a-view-versus-a-copy\n",
      "  return super().drop(\n",
      "<ipython-input-41-93c080143db9>:9: SettingWithCopyWarning: \n",
      "A value is trying to be set on a copy of a slice from a DataFrame.\n",
      "Try using .loc[row_indexer,col_indexer] = value instead\n",
      "\n",
      "See the caveats in the documentation: https://pandas.pydata.org/pandas-docs/stable/user_guide/indexing.html#returning-a-view-versus-a-copy\n",
      "  df1['CAR_AGE']= pred\n"
     ]
    }
   ],
   "source": [
    "df_test_reg=df_test[['JOB_INDEX', 'EDUCATION_INDEX', 'HOME_VAL', 'CAR_AGE']]\n",
    "df1 = df_test_reg[df_test_reg['CAR_AGE'].isnull()==True]\n",
    "df2 = df_test_reg[df_test_reg['CAR_AGE'].isnull()==False]\n",
    "y = df2['CAR_AGE']\n",
    "df2.drop(\"CAR_AGE\",axis=1,inplace=True)\n",
    "reg = lr.fit(df2,y)\n",
    "df1.drop(\"CAR_AGE\",axis=1,inplace=True)\n",
    "pred = lr.predict(df1)\n",
    "df1['CAR_AGE']= pred\n",
    "df_test['CAR_AGE'].fillna(df1['CAR_AGE'], inplace=True)\n",
    "del(df1,df2,y,df_test_reg,pred,reg)"
   ]
  },
  {
   "cell_type": "markdown",
   "id": "f13e27a2-93a9-424f-a922-061fd43a89a5",
   "metadata": {},
   "source": [
    "##### INCOME : regression on conditional YOJ (not missing value)"
   ]
  },
  {
   "cell_type": "code",
   "execution_count": 42,
   "id": "b66ded1d-d2e8-4f01-a9cd-6908f3dee694",
   "metadata": {},
   "outputs": [
    {
     "name": "stderr",
     "output_type": "stream",
     "text": [
      "/Users/vic/PycharmProjects/DLenv/lib/python3.9/site-packages/pandas/core/frame.py:4308: SettingWithCopyWarning: \n",
      "A value is trying to be set on a copy of a slice from a DataFrame\n",
      "\n",
      "See the caveats in the documentation: https://pandas.pydata.org/pandas-docs/stable/user_guide/indexing.html#returning-a-view-versus-a-copy\n",
      "  return super().drop(\n",
      "/Users/vic/PycharmProjects/DLenv/lib/python3.9/site-packages/pandas/core/frame.py:4308: SettingWithCopyWarning: \n",
      "A value is trying to be set on a copy of a slice from a DataFrame\n",
      "\n",
      "See the caveats in the documentation: https://pandas.pydata.org/pandas-docs/stable/user_guide/indexing.html#returning-a-view-versus-a-copy\n",
      "  return super().drop(\n"
     ]
    }
   ],
   "source": [
    "df_train_reg=df_train[['INCOME', 'BLUEBOOK', 'YOJ', 'HOME_VAL','JOB_INDEX','CAR_TYPE_INDEX','EDUCATION_INDEX','HOMEKIDS','URBANICITY_INDEX']]\n",
    "df1 = df_train_reg[(df_train_reg['INCOME'].isnull()==True) & (df_train_reg['YOJ'].isnull()==False)]\n",
    "df2 = df_train_reg[(df_train_reg['INCOME'].isnull()==False) & (df_train_reg['YOJ'].isnull()==False)]\n",
    "y = df2['INCOME']\n",
    "df2.drop(\"INCOME\",axis=1,inplace=True)\n",
    "reg = lr.fit(df2,y)\n",
    "df1.drop(\"INCOME\",axis=1,inplace=True)\n",
    "pred_INCOME_train = lr.predict(df1)"
   ]
  },
  {
   "cell_type": "code",
   "execution_count": 43,
   "id": "73a44942-19e7-405f-acef-e2f470b8d969",
   "metadata": {},
   "outputs": [
    {
     "data": {
      "text/plain": [
       "0.5731128791504837"
      ]
     },
     "execution_count": 43,
     "metadata": {},
     "output_type": "execute_result"
    }
   ],
   "source": [
    "reg.score(df2, y)"
   ]
  },
  {
   "cell_type": "code",
   "execution_count": 44,
   "id": "7631336c-9437-40b5-a018-d728249f09ab",
   "metadata": {},
   "outputs": [],
   "source": [
    "del(df1,df2,df_train_reg,y,reg)"
   ]
  },
  {
   "cell_type": "code",
   "execution_count": 45,
   "id": "e114a7d8-a90f-41c7-9de3-a261ecc4bbad",
   "metadata": {},
   "outputs": [],
   "source": [
    "df_test_reg=df_test[['INCOME', 'BLUEBOOK', 'YOJ', 'HOME_VAL','JOB_INDEX','CAR_TYPE_INDEX','EDUCATION_INDEX','HOMEKIDS','URBANICITY_INDEX']]\n",
    "df1 = df_test_reg[(df_test_reg['INCOME'].isnull()==True) & (df_test_reg['YOJ'].isnull()==False)]"
   ]
  },
  {
   "cell_type": "code",
   "execution_count": 46,
   "id": "a487774c-c5af-48be-b8ec-115ce1355a3a",
   "metadata": {},
   "outputs": [],
   "source": [
    "df2 = df_test_reg[(df_test_reg['INCOME'].isnull()==False) & (df_test_reg['YOJ'].isnull()==False)]"
   ]
  },
  {
   "cell_type": "code",
   "execution_count": 47,
   "id": "92e7fd13-86fc-4f92-9038-51844df3dac7",
   "metadata": {},
   "outputs": [
    {
     "name": "stderr",
     "output_type": "stream",
     "text": [
      "/Users/vic/PycharmProjects/DLenv/lib/python3.9/site-packages/pandas/core/frame.py:4308: SettingWithCopyWarning: \n",
      "A value is trying to be set on a copy of a slice from a DataFrame\n",
      "\n",
      "See the caveats in the documentation: https://pandas.pydata.org/pandas-docs/stable/user_guide/indexing.html#returning-a-view-versus-a-copy\n",
      "  return super().drop(\n",
      "/Users/vic/PycharmProjects/DLenv/lib/python3.9/site-packages/pandas/core/frame.py:4308: SettingWithCopyWarning: \n",
      "A value is trying to be set on a copy of a slice from a DataFrame\n",
      "\n",
      "See the caveats in the documentation: https://pandas.pydata.org/pandas-docs/stable/user_guide/indexing.html#returning-a-view-versus-a-copy\n",
      "  return super().drop(\n"
     ]
    }
   ],
   "source": [
    "y = df2['INCOME']\n",
    "df2.drop(\"INCOME\",axis=1,inplace=True)\n",
    "reg = lr.fit(df2,y)\n",
    "df1.drop(\"INCOME\",axis=1,inplace=True)\n",
    "pred_INCOME_test = lr.predict(df1)"
   ]
  },
  {
   "cell_type": "code",
   "execution_count": 48,
   "id": "ead3c43d-be79-4076-a3b3-85ac76a82d0b",
   "metadata": {},
   "outputs": [],
   "source": [
    "del(df1,df2,y,df_test_reg,reg)"
   ]
  },
  {
   "cell_type": "markdown",
   "id": "d9107a39-a02b-499e-8c3c-6e4e4ae85c0b",
   "metadata": {},
   "source": [
    "#### fill YOJ with regression and same technic as INCOME"
   ]
  },
  {
   "cell_type": "code",
   "execution_count": 49,
   "id": "d6defde9-d831-4de6-8ab8-39cdd435c8d8",
   "metadata": {},
   "outputs": [
    {
     "name": "stderr",
     "output_type": "stream",
     "text": [
      "/Users/vic/PycharmProjects/DLenv/lib/python3.9/site-packages/pandas/core/frame.py:4308: SettingWithCopyWarning: \n",
      "A value is trying to be set on a copy of a slice from a DataFrame\n",
      "\n",
      "See the caveats in the documentation: https://pandas.pydata.org/pandas-docs/stable/user_guide/indexing.html#returning-a-view-versus-a-copy\n",
      "  return super().drop(\n",
      "/Users/vic/PycharmProjects/DLenv/lib/python3.9/site-packages/pandas/core/frame.py:4308: SettingWithCopyWarning: \n",
      "A value is trying to be set on a copy of a slice from a DataFrame\n",
      "\n",
      "See the caveats in the documentation: https://pandas.pydata.org/pandas-docs/stable/user_guide/indexing.html#returning-a-view-versus-a-copy\n",
      "  return super().drop(\n"
     ]
    }
   ],
   "source": [
    "df_train_reg=df_train[['INCOME', 'BLUEBOOK', 'REVOKED_INDEX', 'CAR_USE_INDEX','YOJ', 'MSTATUS_INDEX', 'PARENT1_INDEX', 'HOME_VAL', 'JOB_INDEX','CAR_TYPE_INDEX','EDUCATION_INDEX','URBANICITY_INDEX', 'AGE']]\n",
    "df1 = df_train_reg[(df_train_reg['YOJ'].isnull()==True) & (df_train_reg['INCOME'].isnull()==False)]\n",
    "df2 = df_train_reg[(df_train_reg['YOJ'].isnull()==False) & (df_train_reg['INCOME'].isnull()==False)]\n",
    "y = df2['YOJ']\n",
    "df2.drop(\"YOJ\",axis=1,inplace=True)\n",
    "reg = lr.fit(df2,y)\n",
    "df1.drop(\"YOJ\",axis=1,inplace=True)\n",
    "pred_YOJ_train = lr.predict(df1)"
   ]
  },
  {
   "cell_type": "code",
   "execution_count": 50,
   "id": "009c5a28-cf66-4a3f-a8f7-f1de578cfd77",
   "metadata": {},
   "outputs": [
    {
     "data": {
      "text/plain": [
       "0.2081241448559059"
      ]
     },
     "execution_count": 50,
     "metadata": {},
     "output_type": "execute_result"
    }
   ],
   "source": [
    "reg.score(df2, y)"
   ]
  },
  {
   "cell_type": "code",
   "execution_count": 51,
   "id": "22019dd3-baa9-489c-8a40-58fccf167dad",
   "metadata": {},
   "outputs": [
    {
     "name": "stderr",
     "output_type": "stream",
     "text": [
      "/Users/vic/PycharmProjects/DLenv/lib/python3.9/site-packages/pandas/core/frame.py:4308: SettingWithCopyWarning: \n",
      "A value is trying to be set on a copy of a slice from a DataFrame\n",
      "\n",
      "See the caveats in the documentation: https://pandas.pydata.org/pandas-docs/stable/user_guide/indexing.html#returning-a-view-versus-a-copy\n",
      "  return super().drop(\n",
      "/Users/vic/PycharmProjects/DLenv/lib/python3.9/site-packages/pandas/core/frame.py:4308: SettingWithCopyWarning: \n",
      "A value is trying to be set on a copy of a slice from a DataFrame\n",
      "\n",
      "See the caveats in the documentation: https://pandas.pydata.org/pandas-docs/stable/user_guide/indexing.html#returning-a-view-versus-a-copy\n",
      "  return super().drop(\n"
     ]
    }
   ],
   "source": [
    "df_test_reg=df_test[['INCOME', 'BLUEBOOK', 'REVOKED_INDEX', 'CAR_USE_INDEX','YOJ', 'MSTATUS_INDEX', 'PARENT1_INDEX', 'HOME_VAL', 'JOB_INDEX','CAR_TYPE_INDEX','EDUCATION_INDEX','URBANICITY_INDEX', 'AGE']]\n",
    "df1 = df_test_reg[(df_test_reg['YOJ'].isnull()==True) & (df_test_reg['INCOME'].isnull()==False)]\n",
    "df2 = df_test_reg[(df_test_reg['YOJ'].isnull()==False) & (df_test_reg['INCOME'].isnull()==False)]\n",
    "y = df2['YOJ']\n",
    "df2.drop(\"YOJ\",axis=1,inplace=True)\n",
    "reg = lr.fit(df2,y)\n",
    "df1.drop(\"YOJ\",axis=1,inplace=True)\n",
    "pred_YOJ_test = lr.predict(df1)"
   ]
  },
  {
   "cell_type": "code",
   "execution_count": 52,
   "id": "fb55617e-289b-43af-bfce-347c0a17d089",
   "metadata": {},
   "outputs": [
    {
     "name": "stderr",
     "output_type": "stream",
     "text": [
      "<ipython-input-52-3c0156fc7f49>:1: SettingWithCopyWarning: \n",
      "A value is trying to be set on a copy of a slice from a DataFrame\n",
      "\n",
      "See the caveats in the documentation: https://pandas.pydata.org/pandas-docs/stable/user_guide/indexing.html#returning-a-view-versus-a-copy\n",
      "  df_train['INCOME'][(df_train['INCOME'].isnull()==True) & (df_train['YOJ'].isnull()==False)]=pred_INCOME_train\n"
     ]
    }
   ],
   "source": [
    "df_train['INCOME'][(df_train['INCOME'].isnull()==True) & (df_train['YOJ'].isnull()==False)]=pred_INCOME_train"
   ]
  },
  {
   "cell_type": "code",
   "execution_count": 53,
   "id": "fb2fe684-8892-4111-92b1-f1ddb7c33bc8",
   "metadata": {},
   "outputs": [
    {
     "name": "stderr",
     "output_type": "stream",
     "text": [
      "<ipython-input-53-1bebba5dc11c>:1: SettingWithCopyWarning: \n",
      "A value is trying to be set on a copy of a slice from a DataFrame\n",
      "\n",
      "See the caveats in the documentation: https://pandas.pydata.org/pandas-docs/stable/user_guide/indexing.html#returning-a-view-versus-a-copy\n",
      "  df_test['INCOME'][(df_test['INCOME'].isnull()==True) & (df_test['YOJ'].isnull()==False)]=pred_INCOME_test\n"
     ]
    }
   ],
   "source": [
    "df_test['INCOME'][(df_test['INCOME'].isnull()==True) & (df_test['YOJ'].isnull()==False)]=pred_INCOME_test"
   ]
  },
  {
   "cell_type": "code",
   "execution_count": 54,
   "id": "7bbc149d-0770-4778-8402-87886e3154dc",
   "metadata": {},
   "outputs": [
    {
     "name": "stderr",
     "output_type": "stream",
     "text": [
      "<ipython-input-54-b86a659e2430>:1: SettingWithCopyWarning: \n",
      "A value is trying to be set on a copy of a slice from a DataFrame\n",
      "\n",
      "See the caveats in the documentation: https://pandas.pydata.org/pandas-docs/stable/user_guide/indexing.html#returning-a-view-versus-a-copy\n",
      "  df_train['YOJ'][(df_train['YOJ'].isnull()==True) & (df_train['INCOME'].isnull()==False)]=pred_YOJ_train\n"
     ]
    }
   ],
   "source": [
    "df_train['YOJ'][(df_train['YOJ'].isnull()==True) & (df_train['INCOME'].isnull()==False)]=pred_YOJ_train"
   ]
  },
  {
   "cell_type": "code",
   "execution_count": 55,
   "id": "eb6302bb-9699-4176-9b14-92e099b82ffe",
   "metadata": {},
   "outputs": [
    {
     "name": "stderr",
     "output_type": "stream",
     "text": [
      "<ipython-input-55-7d326af24d9f>:1: SettingWithCopyWarning: \n",
      "A value is trying to be set on a copy of a slice from a DataFrame\n",
      "\n",
      "See the caveats in the documentation: https://pandas.pydata.org/pandas-docs/stable/user_guide/indexing.html#returning-a-view-versus-a-copy\n",
      "  df_test['YOJ'][(df_test['YOJ'].isnull()==True) & (df_test['INCOME'].isnull()==False)]=pred_YOJ_test\n"
     ]
    }
   ],
   "source": [
    "df_test['YOJ'][(df_test['YOJ'].isnull()==True) & (df_test['INCOME'].isnull()==False)]=pred_YOJ_test"
   ]
  },
  {
   "cell_type": "markdown",
   "id": "06272832-5501-4396-85b6-d38568053234",
   "metadata": {},
   "source": [
    "#### replace values less than 0 by 0 for both INCOME and YOJ"
   ]
  },
  {
   "cell_type": "code",
   "execution_count": 56,
   "id": "b20bab9a-963c-4300-ad93-59a3aa4a1c35",
   "metadata": {},
   "outputs": [],
   "source": [
    "df_test['INCOME'].values[df_test['INCOME'] < 0] = 0\n",
    "df_train['INCOME'].values[df_train['INCOME'] < 0] = 0"
   ]
  },
  {
   "cell_type": "code",
   "execution_count": 57,
   "id": "de18ff0c-343b-491e-9d19-db6d6bff1dc4",
   "metadata": {},
   "outputs": [],
   "source": [
    "df_test['YOJ'].values[df_test['YOJ'] < 0] = 0\n",
    "df_train['YOJ'].values[df_train['YOJ'] < 0] = 0"
   ]
  },
  {
   "cell_type": "markdown",
   "id": "31926fa8-4d89-4e2e-8f87-1fc4de377c1f",
   "metadata": {},
   "source": [
    "#### replace remaining NaN by 0 for both INCOME and YOJ"
   ]
  },
  {
   "cell_type": "code",
   "execution_count": 58,
   "id": "abbbcb46-61c0-4469-afd2-9ab2939ec210",
   "metadata": {},
   "outputs": [],
   "source": [
    "df_train['INCOME'] = df_train['INCOME'].fillna(0)\n",
    "df_test['INCOME'] = df_test['INCOME'].fillna(0)"
   ]
  },
  {
   "cell_type": "code",
   "execution_count": 59,
   "id": "fb4a85f5-890e-43dc-b7df-4f9ac03f86af",
   "metadata": {},
   "outputs": [],
   "source": [
    "df_train['YOJ'] = df_train['YOJ'].fillna(0)\n",
    "df_test['YOJ'] = df_test['YOJ'].fillna(0)"
   ]
  },
  {
   "cell_type": "markdown",
   "id": "c2a9dd62-5608-4401-b8dc-0dda0a8a0710",
   "metadata": {},
   "source": [
    "## Create new binary variables in the dataframe"
   ]
  },
  {
   "cell_type": "markdown",
   "id": "8c1b5db9-aa9b-4c5e-921f-985bb5e2d486",
   "metadata": {},
   "source": [
    "### Binary based on HOME_VAL"
   ]
  },
  {
   "cell_type": "code",
   "execution_count": 60,
   "id": "224753b3-3a0f-4fe1-8510-d54a8f2bb6f6",
   "metadata": {},
   "outputs": [],
   "source": [
    "df_test['HOME_VAL_BIN'] = df_test.HOME_VAL.apply(lambda x: 1 if x > 0 else 0)"
   ]
  },
  {
   "cell_type": "code",
   "execution_count": 61,
   "id": "795f2cda-81cf-405d-8335-adc45892bf08",
   "metadata": {},
   "outputs": [],
   "source": [
    "df_train['HOME_VAL_BIN'] = df_train.HOME_VAL.apply(lambda x: 1 if x > 0 else 0)"
   ]
  },
  {
   "cell_type": "markdown",
   "id": "ad31e520-015f-465a-855a-daf10923f23b",
   "metadata": {},
   "source": [
    "### Binary based on CAR_AGE"
   ]
  },
  {
   "cell_type": "code",
   "execution_count": 62,
   "id": "ab54a460-a53a-4c0f-85fd-f6cd027c6ce5",
   "metadata": {},
   "outputs": [],
   "source": [
    "df_train['CAR_AGE_BIN'] = df_train.CAR_AGE.apply(lambda x: 1 if x > 1 else 0)"
   ]
  },
  {
   "cell_type": "code",
   "execution_count": 63,
   "id": "31229501-862f-429d-93f6-9a40f1955252",
   "metadata": {},
   "outputs": [],
   "source": [
    "df_test['CAR_AGE_BIN'] = df_test.CAR_AGE.apply(lambda x: 1 if x > 1 else 0)"
   ]
  },
  {
   "cell_type": "markdown",
   "id": "5e539f24-4660-4fe8-9c98-ec56121a837c",
   "metadata": {},
   "source": [
    "### Binary based on HOMEKIDS"
   ]
  },
  {
   "cell_type": "code",
   "execution_count": 64,
   "id": "a7cb604c-6602-4ddb-8aa8-2ec029790cfe",
   "metadata": {},
   "outputs": [],
   "source": [
    "df_train['HOMEKIDS_BIN'] = df_train.HOMEKIDS.apply(lambda x: 1 if x > 0 else 0)"
   ]
  },
  {
   "cell_type": "code",
   "execution_count": 65,
   "id": "e7e49666-c3cd-4e73-a326-9aeb4f4aff43",
   "metadata": {},
   "outputs": [],
   "source": [
    "df_test['HOMEKIDS_BIN'] = df_test.HOMEKIDS.apply(lambda x: 1 if x > 0 else 0)"
   ]
  },
  {
   "cell_type": "markdown",
   "id": "1495ab1d-d574-4b3f-b51d-2a887b71d23b",
   "metadata": {},
   "source": [
    "### Binary based on KIDSDRIV"
   ]
  },
  {
   "cell_type": "code",
   "execution_count": 66,
   "id": "747f2bed-3bbe-4e25-989a-c94043465535",
   "metadata": {},
   "outputs": [],
   "source": [
    "df_train['KIDSDRIV_BIN'] = df_train.KIDSDRIV.apply(lambda x: 1 if x > 0 else 0)"
   ]
  },
  {
   "cell_type": "code",
   "execution_count": 67,
   "id": "0e885f74-080e-4193-9e8a-4776088bfde2",
   "metadata": {},
   "outputs": [],
   "source": [
    "df_test['KIDSDRIV_BIN'] = df_test.KIDSDRIV.apply(lambda x: 1 if x > 0 else 0)"
   ]
  }
 ],
 "metadata": {
  "kernelspec": {
   "display_name": "Python 3",
   "language": "python",
   "name": "python3"
  },
  "language_info": {
   "codemirror_mode": {
    "name": "ipython",
    "version": 3
   },
   "file_extension": ".py",
   "mimetype": "text/x-python",
   "name": "python",
   "nbconvert_exporter": "python",
   "pygments_lexer": "ipython3",
   "version": "3.9.5"
  }
 },
 "nbformat": 4,
 "nbformat_minor": 5
}
